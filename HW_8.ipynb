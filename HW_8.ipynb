{
  "cells": [
    {
      "cell_type": "markdown",
      "metadata": {
        "id": "view-in-github",
        "colab_type": "text"
      },
      "source": [
        "<a href=\"https://colab.research.google.com/github/Kostiantyn-Liapkalo/tensorflow_keras/blob/Main/HW_8.ipynb\" target=\"_parent\"><img src=\"https://colab.research.google.com/assets/colab-badge.svg\" alt=\"Open In Colab\"/></a>"
      ]
    },
    {
      "cell_type": "markdown",
      "metadata": {
        "id": "b0Yf4NBJUSNM"
      },
      "source": [
        "# Створення нейронної мережі\n",
        "\n",
        "У цьому завданні ми створимо повнозв'язну нейронну мережу, використовуючи при цьому низькорівневі механізми tensorflow.\n",
        "\n",
        "Архітектура нейромережі представлена на наступному малюнку. Як бачиш, у ній є один вхідний шар, два приховані, а також вихідний шар. В якості активаційної функції у прихованих шарах буде використовуватись сигмоїда. На вихідному шарі ми використовуємо softmax.\n",
        "\n",
        "Частина коду зі створення мережі вже написана, тобі потрібно заповнити пропуски у вказаних місцях."
      ]
    },
    {
      "cell_type": "markdown",
      "metadata": {
        "id": "01rZWUu0USNQ"
      },
      "source": [
        "## Архітектура нейронної мережі\n",
        "\n",
        "<img src=\"http://cs231n.github.io/assets/nn1/neural_net2.jpeg\" alt=\"nn\" style=\"width: 400px;\"/>\n"
      ]
    },
    {
      "cell_type": "markdown",
      "metadata": {
        "id": "LLvIZ705Qw_V"
      },
      "source": [
        "## Про датасет MNIST\n",
        "\n",
        "Дану нейромережу ми будемо вивчати на датасеті MNIST. Цей датасет являє собою велику кількість зображень рукописних цифр розміром $28 \\times 28$ пікселів. Кожен піксель приймає значення від 0 до 255.\n",
        "\n",
        "Як і раніше, датасет буде розділений на навчальну та тестову вибірки. При цьому ми виконаємо нормалізацію всіх зображень, щоб значення пікселів знаходилось у проміжку від 0 до 1, розділивши яскравість кожного пікселя на 255.\n",
        "\n",
        "Окрім того, архітектура нейронної мережі очікує на вхід вектор. У нашому ж випадку кожен об'єкт вибірки являє собою матрицю. Що ж робити? У цьому завданні ми \"розтягнемо\" матрицю $28 \\times 28$, отримавши при цьому вектор, що складається з 784 елементів.\n",
        "\n",
        "![MNIST Dataset](https://www.researchgate.net/profile/Steven-Young-5/publication/306056875/figure/fig1/AS:393921575309346@1470929630835/Example-images-from-the-MNIST-dataset.png)\n",
        "\n",
        "Більше інформації про датасет можна знайти [тут](http://yann.lecun.com/exdb/mnist/)."
      ]
    },
    {
      "cell_type": "code",
      "execution_count": null,
      "metadata": {
        "id": "il_0_5OyUSNR"
      },
      "outputs": [],
      "source": [
        "import tensorflow as tf\n",
        "import numpy as np\n",
        "import matplotlib.pyplot as plt"
      ]
    },
    {
      "cell_type": "code",
      "execution_count": null,
      "metadata": {
        "id": "cd-1_abTUSNS"
      },
      "outputs": [],
      "source": [
        "num_classes = 10 # загальна кількість класів, у нашому випадку це цифри від 0 до 9\n",
        "num_features = 784 # кількість атрибутів вхідного вектора 28 * 28 = 784\n",
        "\n",
        "learning_rate = 0.001 # швидкість навчання нейронної мережі\n",
        "training_steps = 3000 # максимальне число епох\n",
        "batch_size = 256 # перераховувати ваги мережі ми будемо не на всій вибірці, а на її випадковій підмножині з batch_size елементів\n",
        "display_step = 100 # кожні 100 ітерацій ми будемо показувати поточне значення функції втрат і точності\n",
        "\n",
        "n_hidden_1 = 128 # кількість нейронів 1-го шару\n",
        "n_hidden_2 = 256 # кількість нейронів 2-го шару"
      ]
    },
    {
      "cell_type": "code",
      "execution_count": null,
      "metadata": {
        "id": "pGTXiRyTUSNT"
      },
      "outputs": [],
      "source": [
        "from tensorflow.keras.datasets import mnist\n",
        "\n",
        "# Завантажуємо датасет\n",
        "(x_train, y_train), (x_test, y_test) = mnist.load_data()\n",
        "\n",
        "# Перетворюємо цілочисельні пікселі на тип float32\n",
        "x_train, x_test = np.array(x_train, np.float32), np.array(x_test, np.float32)\n",
        "\n",
        "# Перетворюємо матриці розміром 28x28 пікселів у вектор з 784 елементів\n",
        "x_train, x_test = x_train.reshape([-1, num_features]), x_test.reshape([-1, num_features])\n",
        "\n",
        "# Нормалізуємо значення пікселів\n",
        "x_train, x_test = x_train / 255., x_test / 255.\n",
        "\n",
        "# Перемішаємо тренувальні дані\n",
        "train_data = tf.data.Dataset.from_tensor_slices((x_train, y_train))\n",
        "train_data = train_data.repeat().shuffle(5000).batch(batch_size).prefetch(1)"
      ]
    },
    {
      "cell_type": "code",
      "execution_count": null,
      "metadata": {
        "id": "FkRmCQjnUSNV"
      },
      "outputs": [],
      "source": [
        "# Створимо нейронну мережу\n",
        "\n",
        "class DenseLayer(tf.Module):\n",
        "    def __init__(self, in_features, out_features, name=None):\n",
        "        super().__init__(name=name)\n",
        "        self.w = tf.Variable(\n",
        "            tf.random.normal([in_features, out_features]), name=\"w\"\n",
        "        )\n",
        "        self.b = tf.Variable(tf.zeros([out_features]), name=\"b\")\n",
        "\n",
        "    def __call__(self, x, activation=0):\n",
        "        y = tf.matmul(x, self.w) + self.b\n",
        "        if activation != 0:\n",
        "            return tf.nn.softmax(y)\n",
        "        else:\n",
        "            return tf.nn.sigmoid(y)\n",
        "\n",
        "class NN(tf.Module):\n",
        "  def __init__(self, name=None):\n",
        "    super().__init__(name=name)\n",
        "    # Перший шар, який складається з 128 нейронів\n",
        "    self.layer1 = DenseLayer(num_features, n_hidden_1, name='layer1')\n",
        "    # Другий шар, який складається з 256 нейронів\n",
        "    self.layer2 = DenseLayer(n_hidden_1, n_hidden_2, name='layer2')\n",
        "    # Вихідний шар\n",
        "    self.out_layer = DenseLayer(n_hidden_2, num_classes, name='out_layer')\n",
        "\n",
        "\n",
        "  def __call__(self, x):\n",
        "    # Передача даних через перші два шари та вихідний шар з функцією активації softmax\n",
        "    x = self.layer1(x, activation=0)\n",
        "    x = self.layer2(x, activation=0)\n",
        "    x = self.out_layer(x, activation=1)\n",
        "\n",
        "    return x"
      ]
    },
    {
      "cell_type": "code",
      "execution_count": null,
      "metadata": {
        "id": "LIf3o7VAUSNV"
      },
      "outputs": [],
      "source": [
        "# В якості функції помилки в даному випадку зручно взяти крос-ентропію\n",
        "def cross_entropy(y_pred, y_true):\n",
        "    # Закодувати етикетку в один гарячий вектор.\n",
        "    y_true = tf.one_hot(y_true, depth=num_classes)\n",
        "\n",
        "    # Значення передбачення кліпу, щоб уникнути помилки log(0).\n",
        "    y_pred = tf.clip_by_value(y_pred, 1e-9, 1.)\n",
        "\n",
        "    # Обчислення крос-ентропії\n",
        "    return tf.reduce_mean(-tf.reduce_sum(y_true * tf.math.log(y_pred)))\n",
        "\n",
        "# Як метрику якості використовуємо точність\n",
        "def accuracy(y_pred, y_true):\n",
        "    # Порівнюємо передбачені значення з істинними мітками\n",
        "    correct_prediction = tf.equal(tf.argmax(y_pred, 1), tf.cast(y_true, tf.int64))\n",
        "    # Обчислюємо середню точність з використанням згортання\n",
        "    return tf.reduce_mean(tf.cast(correct_prediction, tf.float32))"
      ]
    },
    {
      "cell_type": "code",
      "execution_count": null,
      "metadata": {
        "id": "MQeT1yatUSNW"
      },
      "outputs": [],
      "source": [
        "# Створимо екземпляр нейронної мережі\n",
        "neural_net = NN(name=\"mnist\")\n",
        "\n",
        "# Функція навчання нейромережі\n",
        "def train(nn, input_x, output_y):\n",
        "  # Для налаштування вагів мережі будемо використовувати стохастичний градієнтний спуск\n",
        "  optimizer = tf.optimizers.SGD(learning_rate)\n",
        "\n",
        "  # Активація автоматичного диференціювання\n",
        "  with tf.GradientTape() as g:\n",
        "    pred = neural_net(input_x)\n",
        "    loss = cross_entropy(pred, output_y)\n",
        "\n",
        "    # Отримаємо список оптимізованих параметрів\n",
        "    trainable_variables = nn.trainable_variables\n",
        "\n",
        "    # Обчислимо за ними значення градієнта\n",
        "    gradients = g.gradient(loss, trainable_variables)\n",
        "\n",
        "    # Модифікуємо параметри\n",
        "    optimizer.apply_gradients(zip(gradients, trainable_variables))"
      ]
    },
    {
      "cell_type": "code",
      "execution_count": null,
      "metadata": {
        "colab": {
          "background_save": true,
          "base_uri": "https://localhost:8080/"
        },
        "id": "fnyns9lBfpQZ",
        "outputId": "ed341fb0-df82-42f9-85ff-25b00bc1701e"
      },
      "outputs": [
        {
          "name": "stdout",
          "output_type": "stream",
          "text": [
            "Крок: 100, Функція втрат: 375.4413757324219, Точність: 0.67578125\n",
            "Крок: 200, Функція втрат: 272.8431396484375, Точність: 0.73828125\n",
            "Крок: 300, Функція втрат: 194.30947875976562, Точність: 0.80859375\n",
            "Крок: 400, Функція втрат: 194.63900756835938, Точність: 0.79296875\n",
            "Крок: 500, Функція втрат: 119.09489440917969, Точність: 0.83984375\n",
            "Крок: 600, Функція втрат: 138.53591918945312, Точність: 0.84375\n",
            "Крок: 700, Функція втрат: 100.77165985107422, Точність: 0.8984375\n",
            "Крок: 800, Функція втрат: 97.12472534179688, Точність: 0.875\n",
            "Крок: 900, Функція втрат: 126.79202270507812, Точність: 0.84765625\n",
            "Крок: 1000, Функція втрат: 120.21653747558594, Точність: 0.87109375\n",
            "Крок: 1100, Функція втрат: 92.27841186523438, Точність: 0.90234375\n",
            "Крок: 1200, Функція втрат: 87.70610046386719, Точність: 0.89453125\n",
            "Крок: 1300, Функція втрат: 83.69983673095703, Точність: 0.88671875\n",
            "Крок: 1400, Функція втрат: 80.89949798583984, Точність: 0.88671875\n",
            "Крок: 1500, Функція втрат: 98.91923522949219, Точність: 0.87109375\n",
            "Крок: 1600, Функція втрат: 119.75962829589844, Точність: 0.87109375\n",
            "Крок: 1700, Функція втрат: 57.87694549560547, Точність: 0.921875\n",
            "Крок: 1800, Функція втрат: 71.91776275634766, Точність: 0.90625\n",
            "Крок: 1900, Функція втрат: 74.6004867553711, Точність: 0.89453125\n",
            "Крок: 2000, Функція втрат: 110.24188232421875, Точність: 0.87890625\n",
            "Крок: 2100, Функція втрат: 71.93878173828125, Точність: 0.91015625\n",
            "Крок: 2200, Функція втрат: 71.5238265991211, Точність: 0.921875\n",
            "Крок: 2300, Функція втрат: 88.57548522949219, Точність: 0.90625\n",
            "Крок: 2400, Функція втрат: 67.28311157226562, Точність: 0.9296875\n",
            "Крок: 2500, Функція втрат: 66.60466003417969, Точність: 0.91796875\n",
            "Крок: 2600, Функція втрат: 52.66366195678711, Точність: 0.9375\n",
            "Крок: 2700, Функція втрат: 62.150917053222656, Точність: 0.953125\n",
            "Крок: 2800, Функція втрат: 45.99946594238281, Точність: 0.94921875\n",
            "Крок: 2900, Функція втрат: 34.71711730957031, Точність: 0.95703125\n",
            "Крок: 3000, Функція втрат: 76.86686706542969, Точність: 0.921875\n"
          ]
        }
      ],
      "source": [
        "# Тренування мережі\n",
        "\n",
        "loss_history = []  # кожні display_step кроків зберігай в цьому списку поточну помилку нейромережі\n",
        "accuracy_history = [] # кожні display_step кроків зберігай в цьому списку поточну точність нейромережі\n",
        "\n",
        "# У цьому циклі ми будемо проводити навчання нейронної мережі\n",
        "# із тренувального датасета train_data вилучи випадкову підмножину, на якій\n",
        "# відбудеться тренування. Використовуй метод take, доступний для тренувального датасета.\n",
        "for step, (batch_x, batch_y) in enumerate(train_data.take(training_steps), 1):\n",
        "    # Оновлюємо ваги нейронної мережі\n",
        "    train(neural_net, batch_x, batch_y)\n",
        "\n",
        "    if step % display_step == 0:\n",
        "        pred = neural_net(batch_x)\n",
        "        loss = cross_entropy(pred, batch_y)\n",
        "        acc = accuracy(pred, batch_y)\n",
        "        loss_history.append(loss)\n",
        "        accuracy_history.append(acc)\n",
        "        print(f\"Крок: {step}, Функція втрат: {loss}, Точність: {acc}\")\n"
      ]
    },
    {
      "cell_type": "code",
      "execution_count": null,
      "metadata": {
        "id": "_yCBfG6MbQB2"
      },
      "outputs": [],
      "source": [
        "# Виведи графіки залежності зміни точності і втрат від кроку\n",
        "# Якщо все зроблено правильно, то точність повинна зростати, а втрати зменшуватись\n",
        "\n",
        "import matplotlib.pyplot as plt\n",
        "\n",
        "# Виведення графіка функції втрат\n",
        "plt.figure(figsize=(12, 6))\n",
        "plt.subplot(1, 2, 1)\n",
        "plt.plot(range(1, training_steps + 1, display_step), loss_history, marker='o', linestyle='-')\n",
        "plt.title('Зміна функції втрат')\n",
        "plt.xlabel('Крок тренування')\n",
        "plt.ylabel('Функція втрат')\n",
        "\n",
        "# Виведення графіка точності\n",
        "plt.subplot(1, 2, 2)\n",
        "plt.plot(range(1, training_steps + 1, display_step), accuracy_history, marker='o', linestyle='-')\n",
        "plt.title('Зміна точності')\n",
        "plt.xlabel('Крок тренування')\n",
        "plt.ylabel('Точність')\n",
        "\n",
        "plt.tight_layout()\n",
        "plt.show()\n"
      ]
    },
    {
      "cell_type": "code",
      "execution_count": null,
      "metadata": {
        "id": "LE3g4gDyUSNY"
      },
      "outputs": [],
      "source": [
        "# Обчисли точність навченої нейромережі\n",
        "\n",
        "# Тестування моделі на тестових даних\n",
        "test_pred = neural_net(x_test)\n",
        "test_acc = accuracy(test_pred, y_test)\n",
        "print(f\"Точність на тестових даних: {test_acc.numpy()}\")\n"
      ]
    },
    {
      "cell_type": "code",
      "execution_count": null,
      "metadata": {
        "id": "_EEHAubOUSNY"
      },
      "outputs": [],
      "source": [
        "# Протестуємо навчену нейромережу на 10 зображеннях. З тестової вибірки візьми 5\n",
        "# випадкових зображень і передай їх у нейронну мережу.\n",
        "# Виведи зображення та випиши поруч відповідь нейромережі.\n",
        "# Зроби висновок про те, чи помиляється твоя нейронна мережа, і якщо так, то як часто?\n",
        "\n",
        "import random\n",
        "\n",
        "# Виберемо 5 випадкових зображень з тестової вибірки\n",
        "random_indices = random.sample(range(len(x_test)), 5)\n",
        "test_images = x_test[random_indices]\n",
        "test_labels = y_test[random_indices]\n",
        "\n",
        "# Прогнозуємо класи для вибраних зображень\n",
        "predictions = neural_net(test_images)\n",
        "predicted_labels = tf.argmax(predictions, axis=1).numpy()\n",
        "\n",
        "# Виведемо зображення та випишемо поруч відповідь нейромережі\n",
        "plt.figure(figsize=(12, 6))\n",
        "for i in range(5):\n",
        "    plt.subplot(1, 5, i + 1)\n",
        "    plt.imshow(test_images[i].reshape((28, 28)), cmap='gray')\n",
        "    plt.title(f\"Правильно: {test_labels[i]}\\nПрогноз: {predicted_labels[i]}\")\n",
        "    plt.axis('off')\n",
        "\n",
        "plt.show()\n",
        "\n",
        "# Порівняємо прогнози з правильними мітками та обчислимо точність\n",
        "correct_predictions = (predicted_labels == test_labels)\n",
        "accuracy = sum(correct_predictions) / len(correct_predictions)\n",
        "print(f\"Точність на цих 5 зображеннях: {accuracy * 100:.2f}%\")\n"
      ]
    },
    {
      "cell_type": "markdown",
      "metadata": {
        "id": "TJPsXMd8rXKU"
      },
      "source": [
        "На основі результатів тренування та тестування можна робити висновки про якість навченої мережі, її ефективність у вирішенні завдання розпізнавання рукописних цифр та можливі шляхи подальшого вдосконалення."
      ]
    }
  ],
  "metadata": {
    "colab": {
      "provenance": [],
      "include_colab_link": true
    },
    "kernelspec": {
      "display_name": "Python 3",
      "name": "python3"
    },
    "language_info": {
      "codemirror_mode": {
        "name": "ipython",
        "version": 3
      },
      "file_extension": ".py",
      "mimetype": "text/x-python",
      "name": "python",
      "nbconvert_exporter": "python",
      "pygments_lexer": "ipython3",
      "version": "3.8.0"
    }
  },
  "nbformat": 4,
  "nbformat_minor": 0
}